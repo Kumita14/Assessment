{
 "cells": [
  {
   "cell_type": "markdown",
   "id": "a462d75c",
   "metadata": {},
   "source": [
    "# student 1"
   ]
  },
  {
   "cell_type": "code",
   "execution_count": null,
   "id": "19284bbe",
   "metadata": {},
   "outputs": [],
   "source": [
    "import pandas as pd\n",
    "import numpy as np\n",
    "from sklearn import LinearRegression\n",
    "from sklearn.cross_validation import cross_val_score"
   ]
  },
  {
   "cell_type": "markdown",
   "id": "ba000676",
   "metadata": {},
   "source": [
    "#errors\n",
    "from sklearn import LinearRegression\n",
    "\n"
   ]
  },
  {
   "cell_type": "markdown",
   "id": "7c6819d9",
   "metadata": {},
   "source": [
    " #correction from sklearn.linear_model import LinearRegression"
   ]
  },
  {
   "cell_type": "code",
   "execution_count": null,
   "id": "3369e779",
   "metadata": {},
   "outputs": [],
   "source": [
    "# Load data\n",
    "d = pd.read_csv(\"../data/train.csv\")"
   ]
  },
  {
   "cell_type": "markdown",
   "id": "5255880f",
   "metadata": {},
   "source": [
    "#error:'d' "
   ]
  },
  {
   "cell_type": "markdown",
   "id": "ec9ece26",
   "metadata": {},
   "source": [
    "#correction: 'data'"
   ]
  },
  {
   "cell_type": "code",
   "execution_count": 20,
   "id": "d42d9812",
   "metadata": {},
   "outputs": [],
   "source": [
    "# Setup data for prediction\n",
    "x1 = data.SalaryNormalized\n",
    "x2 = pd.get_dummies(data.ContractType)"
   ]
  },
  {
   "cell_type": "code",
   "execution_count": 21,
   "id": "e4c13376",
   "metadata": {},
   "outputs": [],
   "source": [
    "# Setup model\n",
    "model = LinearRegression()"
   ]
  },
  {
   "cell_type": "code",
   "execution_count": null,
   "id": "44461478",
   "metadata": {},
   "outputs": [],
   "source": [
    "# Evaluate model\n",
    "from sklearn.cross_validation import cross_val_score\n",
    "from sklearn.cross_validation import train_test_split\n",
    "scores = cross_val_score(model, x2, x1, cv=1, scoring='mean_absolute_error')\n",
    "print(scores.mean())"
   ]
  },
  {
   "cell_type": "markdown",
   "id": "5b12b6ad",
   "metadata": {},
   "source": [
    "modules should be imported on top. \n"
   ]
  },
  {
   "cell_type": "markdown",
   "id": "8367f214",
   "metadata": {},
   "source": [
    "#error:  \n",
    "already imported 'from sklearn.cross_validation import cross_val_score' on top. redundent."
   ]
  },
  {
   "cell_type": "markdown",
   "id": "ce967797",
   "metadata": {},
   "source": [
    "# student 2"
   ]
  },
  {
   "cell_type": "code",
   "execution_count": null,
   "id": "3c1524aa",
   "metadata": {},
   "outputs": [],
   "source": [
    "import pandas as pd\n",
    "import numpy as np\n",
    "from sklearn.linear_model import LinearRegression\n",
    "from sklearn.cross_validation import cross_val_score\n",
    "\n",
    "# Load data\n",
    "data = pd.read_csv('../data/train.csv')\n",
    "\n",
    "\n",
    "# Setup data for prediction\n",
    "y = data.SalaryNormalized\n",
    "X = pd.get_dummies(data.ContractType)\n",
    "\n",
    "# Setup model\n",
    "model = LinearRegression()\n",
    "\n",
    "# Evaluate model\n",
    "scores = cross_val_score(model, X, y, cv=5, scoring='mean_absolute_error')\n",
    "print(scores.mean())"
   ]
  },
  {
   "cell_type": "markdown",
   "id": "18b5cd35",
   "metadata": {},
   "source": [
    "#correction\n",
    "y = data.SalaryNormalized\n",
    "X = pd.get_dummies(data.ContractType)\n",
    "Namespace and Case sensitive ."
   ]
  },
  {
   "cell_type": "markdown",
   "id": "3e41a664",
   "metadata": {},
   "source": [
    "remove 'cv=5'"
   ]
  },
  {
   "cell_type": "code",
   "execution_count": null,
   "id": "78df2879",
   "metadata": {},
   "outputs": [],
   "source": []
  }
 ],
 "metadata": {
  "kernelspec": {
   "display_name": "Python 3",
   "language": "python",
   "name": "python3"
  },
  "language_info": {
   "codemirror_mode": {
    "name": "ipython",
    "version": 3
   },
   "file_extension": ".py",
   "mimetype": "text/x-python",
   "name": "python",
   "nbconvert_exporter": "python",
   "pygments_lexer": "ipython3",
   "version": "3.8.8"
  }
 },
 "nbformat": 4,
 "nbformat_minor": 5
}
